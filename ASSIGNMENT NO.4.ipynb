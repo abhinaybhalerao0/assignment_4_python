{
 "cells": [
  {
   "cell_type": "code",
   "execution_count": 6,
   "id": "e54372d8-79d2-412b-b0bd-eae3a1dcab1d",
   "metadata": {},
   "outputs": [
    {
     "name": "stdin",
     "output_type": "stream",
     "text": [
      "enter thr no 5\n"
     ]
    },
    {
     "name": "stdout",
     "output_type": "stream",
     "text": [
      "factorial of 5 is 120\n"
     ]
    }
   ],
   "source": [
    "### 1. Write a Python Program to Find the Factorial of a Number?\n",
    "num = int(input(\"enter thr no\"))\n",
    "factorial = 1\n",
    "if num < 0:\n",
    "        print(\"factorial does not exist for neg no.\")\n",
    "\n",
    "elif num == 0:\n",
    "    print(\"factorial of 0 is 1 \")\n",
    "    \n",
    "else:\n",
    "    for i in range(1, num+1):\n",
    "        factorial *=i\n",
    "    print(\"factorial of\", num, \"is\", factorial)"
   ]
  },
  {
   "cell_type": "code",
   "execution_count": 2,
   "id": "3fa97244-4c43-4a55-9650-2e46eac6bab1",
   "metadata": {},
   "outputs": [
    {
     "name": "stdin",
     "output_type": "stream",
     "text": [
      "enter the no. 5\n"
     ]
    },
    {
     "name": "stdout",
     "output_type": "stream",
     "text": [
      "5 x 1 = 5\n",
      "5 x 2 = 10\n",
      "5 x 3 = 15\n",
      "5 x 4 = 20\n",
      "5 x 5 = 25\n",
      "5 x 6 = 30\n",
      "5 x 7 = 35\n",
      "5 x 8 = 40\n",
      "5 x 9 = 45\n",
      "5 x 10 = 50\n"
     ]
    }
   ],
   "source": [
    "### 2. Write a Python Program to Display the multiplication Table?\n",
    "num = int(input(\"enter the no.\"))\n",
    "for i in range(1, 11):\n",
    "        print(num, \"x\", i, \"=\", num*i)"
   ]
  },
  {
   "cell_type": "code",
   "execution_count": 12,
   "id": "8a958e2c-a18e-4359-b939-e909434e4538",
   "metadata": {},
   "outputs": [
    {
     "ename": "SyntaxError",
     "evalue": "invalid syntax (2473572582.py, line 4)",
     "output_type": "error",
     "traceback": [
      "\u001b[0;36m  Cell \u001b[0;32mIn [12], line 4\u001b[0;36m\u001b[0m\n\u001b[0;31m    if num_terms < = 0:\u001b[0m\n\u001b[0m                   ^\u001b[0m\n\u001b[0;31mSyntaxError\u001b[0m\u001b[0;31m:\u001b[0m invalid syntax\n"
     ]
    }
   ],
   "source": [
    "### 3. Write a Python Program to Print the Fibonacci sequence?\n",
    "term1, term2 = 0, 1\n",
    "\n",
    "if num_terms < = 0:\n",
    "    print(\"please enter positive no.\")\n",
    "elif num_terms == 1:\n",
    "    print(\"fibonacci sequence upto\", num_terms)\n",
    "    print(term1)\n",
    "else:\n",
    "    print(\"fibonacci sequence\")\n",
    "    for i in range(num_terms):\n",
    "        print(term1)\n",
    "        nth_term = term1 + term2\n",
    "        term1 = term2\n",
    "        term2 = nth_term"
   ]
  },
  {
   "cell_type": "code",
   "execution_count": 14,
   "id": "9571de8e-7728-4b7d-a86b-559400dd9d56",
   "metadata": {},
   "outputs": [
    {
     "name": "stdin",
     "output_type": "stream",
     "text": [
      "enter the no. 200\n"
     ]
    },
    {
     "name": "stdout",
     "output_type": "stream",
     "text": [
      "200 is not an armstrong no\n"
     ]
    }
   ],
   "source": [
    "### 4. Write a Python Program to Check Armstrong Number?\n",
    "num = int(input(\"enter the no.\"))\n",
    "no_of_digits = len(str(num))\n",
    "\n",
    "sum = 0\n",
    "\n",
    "temp = num\n",
    "while temp > 0:\n",
    "    digit = temp % 10\n",
    "    sum += digit ** no_of_digits\n",
    "    temp //=10\n",
    "    \n",
    "if num== sum:\n",
    "    print(num, \"is an arnstrong function\")\n",
    "else:\n",
    "    print(num, \"is not an armstrong no\")"
   ]
  },
  {
   "cell_type": "code",
   "execution_count": 10,
   "id": "400cc79d-7a48-4d1a-bb73-44599c2ddbf2",
   "metadata": {},
   "outputs": [
    {
     "ename": "NameError",
     "evalue": "name 'num_terms' is not defined",
     "output_type": "error",
     "traceback": [
      "\u001b[0;31m---------------------------------------------------------------------------\u001b[0m",
      "\u001b[0;31mNameError\u001b[0m                                 Traceback (most recent call last)",
      "Cell \u001b[0;32mIn [10], line 1\u001b[0m\n\u001b[0;32m----> 1\u001b[0m \u001b[38;5;28;01mfor\u001b[39;00m i \u001b[38;5;129;01min\u001b[39;00m \u001b[38;5;28mrange\u001b[39m(\u001b[43mnum_terms\u001b[49m):\n\u001b[1;32m      2\u001b[0m     fib_sequence\u001b[38;5;241m.\u001b[39mappend(term1)\n\u001b[1;32m      3\u001b[0m     nth_term \u001b[38;5;241m=\u001b[39m term1 \u001b[38;5;241m+\u001b[39m term2\n",
      "\u001b[0;31mNameError\u001b[0m: name 'num_terms' is not defined"
     ]
    }
   ],
   "source": [
    "### 5. Write a Python Program to Find Armstrong Number in an Interval?\n",
    "lower = int(input(\"Enter the lower limit: \"))\n",
    "upper = int(input(\"Enter the upper limit: \"))\n",
    "\n",
    "print(\"Armstrong numbers between\", lower, \"and\", upper, \"are:\")\n",
    "\n",
    "for num in range(lower, upper + 1):\n",
    "    order = len(str(num))\n",
    "    sum = 0\n",
    "    temp = num\n",
    "    while temp > 0:\n",
    "        digit = temp % 10\n",
    "        sum += digit ** order\n",
    "        temp //= 10\n",
    "    if num == sum:\n",
    "        print(num)"
   ]
  },
  {
   "cell_type": "code",
   "execution_count": 16,
   "id": "7b4b4b3c-caa1-4831-a228-1a5e457254b6",
   "metadata": {},
   "outputs": [
    {
     "name": "stdin",
     "output_type": "stream",
     "text": [
      "enter the no 5\n"
     ]
    },
    {
     "name": "stdout",
     "output_type": "stream",
     "text": [
      "the sum of the first 5 natural no. is 1\n",
      "the sum of the first 5 natural no. is 2\n",
      "the sum of the first 5 natural no. is 3\n",
      "the sum of the first 5 natural no. is 4\n",
      "the sum of the first 5 natural no. is 5\n"
     ]
    }
   ],
   "source": [
    "### 6. Write a Python Program to Find the Sum of Natural Numbers?\n",
    "num = int(input(\"enter the no\"))\n",
    "\n",
    "sum =0\n",
    "for i in range(1, num+1):\n",
    "    sum = i\n",
    "    \n",
    "    print(\"the sum of the first\", num, \"natural no. is\", sum)"
   ]
  },
  {
   "cell_type": "code",
   "execution_count": null,
   "id": "19f640d0-c2cd-4c13-87c4-f8fe84668081",
   "metadata": {},
   "outputs": [],
   "source": []
  }
 ],
 "metadata": {
  "kernelspec": {
   "display_name": "Python 3 (ipykernel)",
   "language": "python",
   "name": "python3"
  },
  "language_info": {
   "codemirror_mode": {
    "name": "ipython",
    "version": 3
   },
   "file_extension": ".py",
   "mimetype": "text/x-python",
   "name": "python",
   "nbconvert_exporter": "python",
   "pygments_lexer": "ipython3",
   "version": "3.10.6"
  }
 },
 "nbformat": 4,
 "nbformat_minor": 5
}
